{
 "cells": [
  {
   "cell_type": "markdown",
   "metadata": {},
   "source": [
    "# Find IT UGM - ODE "
   ]
  },
  {
   "cell_type": "markdown",
   "metadata": {},
   "source": [
    "## Import Library"
   ]
  },
  {
   "cell_type": "code",
   "execution_count": 66,
   "metadata": {},
   "outputs": [],
   "source": [
    "import numpy as np\n",
    "import pandas as pd\n",
    "import matplotlib.pyplot as plt\n",
    "import seaborn as sns\n",
    "\n",
    "from tqdm import tqdm\n",
    "from IPython.display import display\n",
    "\n",
    "# Model Library\n",
    "from sklearn.model_selection import train_test_split, GridSearchCV, StratifiedKFold, cross_val_score\n",
    "from sklearn.metrics import confusion_matrix, ConfusionMatrixDisplay, f1_score, roc_auc_score\n",
    "from sklearn.linear_model import LogisticRegression\n",
    "from sklearn.tree import DecisionTreeClassifier\n",
    "from sklearn.ensemble import RandomForestClassifier\n",
    "from xgboost import XGBClassifier\n",
    "\n",
    "np.random.seed(5)\n",
    "%matplotlib inline"
   ]
  },
  {
   "cell_type": "code",
   "execution_count": 67,
   "metadata": {},
   "outputs": [],
   "source": [
    "import warnings\n",
    "warnings.filterwarnings('ignore')\n",
    "warnings.simplefilter('ignore')"
   ]
  },
  {
   "cell_type": "markdown",
   "metadata": {},
   "source": [
    "## Import Custom Classes / Function"
   ]
  },
  {
   "cell_type": "code",
   "execution_count": 3,
   "metadata": {},
   "outputs": [],
   "source": [
    "from model import RandomForest"
   ]
  },
  {
   "cell_type": "markdown",
   "metadata": {},
   "source": [
    "## Data Preparation + Cleansing"
   ]
  },
  {
   "cell_type": "markdown",
   "metadata": {},
   "source": [
    "### Features\n",
    "\n",
    "`h1n1_concern` - Level of concern about the H1N1 flu.\n",
    "0 = Not at all concerned; 1 = Not very concerned; 2 = Somewhat concerned; 3 = Very concerned.\n",
    "\n",
    "`h1n1_knowledge` - Level of knowledge about H1N1 flu.\n",
    "0 = No knowledge; 1 = A little knowledge; 2 = A lot of knowledge.\n",
    "\n",
    "`behavioral_antiviral_meds` - Has taken antiviral medications. (binary)\n",
    "\n",
    "`behavioral_avoidance` - Has avoided close contact with others with flu-like symptoms. (binary)\n",
    "\n",
    "`behavioral_face_mask` - Has bought a face mask. (binary)\n",
    "\n",
    "`behavioral_wash_hands` - Has frequently washed hands or used hand sanitizer. (binary)\n",
    "\n",
    "`behavioral_large_gatherings` - Has reduced time at large gatherings. (binary)\n",
    "\n",
    "`behavioral_outside_home` - Has reduced contact with people outside of own household. (binary)\n",
    "\n",
    "`behavioral_touch_face` - Has avoided touching eyes, nose, or mouth. (binary)\n",
    "\n",
    "`doctor_recc_h1n1` - H1N1 flu vaccine was recommended by doctor. (binary)\n",
    "\n",
    "`doctor_recc_seasonal` - Seasonal flu vaccine was recommended by doctor. (binary)\n",
    "\n",
    "`chronic_med_condition` - Has any of the following chronic medical conditions: asthma or an other lung condition, diabetes, a heart condition, a kidney condition, sickle cell anemia or other anemia, a neurological or neuromuscular condition, a liver condition, or a weakened immune system caused by a chronic illness or by medicines taken for a chronic illness. (binary)\n",
    "\n",
    "`child_under_6_months` - Has regular close contact with a child under the age of six months. (binary)\n",
    "\n",
    "`health_worker` - Is a healthcare worker. (binary)\n",
    "\n",
    "`health_insurance` - Has health insurance. (binary)\n",
    "\n",
    "`opinion_h1n1_vacc_effective` - Respondent's opinion about H1N1 vaccine effectiveness.\n",
    "1 = Not at all effective; 2 = Not very effective; 3 = Don't know; 4 = Somewhat effective; 5 = Very effective.\n",
    "\n",
    "`opinion_h1n1_risk` - Respondent's opinion about risk of getting sick with H1N1 flu without vaccine.\n",
    "1 = Very Low; 2 = Somewhat low; 3 = Don't know; 4 = Somewhat high; 5 = Very high.\n",
    "\n",
    "`opinion_h1n1_sick_from_vacc` - Respondent's worry of getting sick from taking H1N1 vaccine.\n",
    "1 = Not at all worried; 2 = Not very worried; 3 = Don't know; 4 = Somewhat worried; 5 = Very worried.\n",
    "\n",
    "`opinion_seas_vacc_effective` - Respondent's opinion about seasonal flu vaccine effectiveness.\n",
    "1 = Not at all effective; 2 = Not very effective; 3 = Don't know; 4 = Somewhat effective; 5 = Very effective.\n",
    "\n",
    "`opinion_seas_risk` - Respondent's opinion about risk of getting sick with seasonal flu without vaccine.\n",
    "1 = Very Low; 2 = Somewhat low; 3 = Don't know; 4 = Somewhat high; 5 = Very high.\n",
    "\n",
    "`opinion_seas_sick_from_vacc` - Respondent's worry of getting sick from taking seasonal flu vaccine.\n",
    "1 = Not at all worried; 2 = Not very worried; 3 = Don't know; 4 = Somewhat worried; 5 = Very worried.\n",
    "\n",
    "`age_group` - Age group of respondent.\n",
    "\n",
    "`education` - Self-reported education level.\n",
    "\n",
    "`race` - Race of respondent.\n",
    "\n",
    "`sex` - Sex of respondent.\n",
    "\n",
    "`income_poverty` - Household annual income of respondent with respect to 2008 Census poverty thresholds.\n",
    "\n",
    "`marital_status` - Marital status of respondent.\n",
    "\n",
    "`rent_or_own` - Housing situation of respondent.\n",
    "\n",
    "`employment_status` - Employment status of respondent.\n",
    "\n",
    "`hhs_geo_region` - Respondent's residence using a 10-region geographic classification defined by the U.S. Dept. of Health and Human Services. Values are represented as short random character strings.\n",
    "\n",
    "`census_msa` - Respondent's residence within metropolitan statistical areas (MSA) as defined by the U.S. Census.\n",
    "\n",
    "`household_adults` - Number of other adults in household, top-coded to 3.\n",
    "\n",
    "`household_children` - Number of children in household, top-coded to 3.\n",
    "\n",
    "`employment_industry` - Type of industry respondent is employed in. Values are represented as short random character strings.\n",
    "\n",
    "`employment_occupation` - Type of occupation of respondent. Values are represented as short random character strings."
   ]
  },
  {
   "cell_type": "markdown",
   "metadata": {},
   "source": [
    "### Target variables :\n",
    "`h1n1_vaccine` - Whether respondent received H1N1 flu vaccine.\n",
    "\n",
    "`seasonal_vaccine` - Whether respondent received seasonal flu vaccine.\n",
    "\n",
    "Both are binary variables: 0 = No; 1 = Yes."
   ]
  },
  {
   "cell_type": "markdown",
   "metadata": {},
   "source": [
    "### Loading Data"
   ]
  },
  {
   "cell_type": "code",
   "execution_count": 4,
   "metadata": {},
   "outputs": [],
   "source": [
    "df_features = pd.read_csv('data/training_set_features.csv')\n",
    "df_labels = pd.read_csv('data/training_set_labels.csv')\n",
    "\n",
    "df_test_features = pd.read_csv('data/test_set_features.csv')"
   ]
  },
  {
   "cell_type": "code",
   "execution_count": 5,
   "metadata": {},
   "outputs": [
    {
     "data": {
      "text/plain": [
       "Index(['respondent_id', 'h1n1_vaccine', 'seasonal_vaccine'], dtype='object')"
      ]
     },
     "execution_count": 5,
     "metadata": {},
     "output_type": "execute_result"
    }
   ],
   "source": [
    "df_labels.columns"
   ]
  },
  {
   "cell_type": "code",
   "execution_count": 6,
   "metadata": {},
   "outputs": [
    {
     "data": {
      "text/plain": [
       "Index(['respondent_id', 'h1n1_concern', 'h1n1_knowledge',\n",
       "       'behavioral_antiviral_meds', 'behavioral_avoidance',\n",
       "       'behavioral_face_mask', 'behavioral_wash_hands',\n",
       "       'behavioral_large_gatherings', 'behavioral_outside_home',\n",
       "       'behavioral_touch_face', 'doctor_recc_h1n1', 'doctor_recc_seasonal',\n",
       "       'chronic_med_condition', 'child_under_6_months', 'health_worker',\n",
       "       'health_insurance', 'opinion_h1n1_vacc_effective', 'opinion_h1n1_risk',\n",
       "       'opinion_h1n1_sick_from_vacc', 'opinion_seas_vacc_effective',\n",
       "       'opinion_seas_risk', 'opinion_seas_sick_from_vacc', 'age_group',\n",
       "       'education', 'race', 'sex', 'income_poverty', 'marital_status',\n",
       "       'rent_or_own', 'employment_status', 'hhs_geo_region', 'census_msa',\n",
       "       'household_adults', 'household_children', 'employment_industry',\n",
       "       'employment_occupation'],\n",
       "      dtype='object')"
      ]
     },
     "execution_count": 6,
     "metadata": {},
     "output_type": "execute_result"
    }
   ],
   "source": [
    "df_features.columns"
   ]
  },
  {
   "cell_type": "code",
   "execution_count": 7,
   "metadata": {},
   "outputs": [
    {
     "data": {
      "text/plain": [
       "Index(['respondent_id', 'h1n1_concern', 'h1n1_knowledge',\n",
       "       'behavioral_antiviral_meds', 'behavioral_avoidance',\n",
       "       'behavioral_face_mask', 'behavioral_wash_hands',\n",
       "       'behavioral_large_gatherings', 'behavioral_outside_home',\n",
       "       'behavioral_touch_face', 'doctor_recc_h1n1', 'doctor_recc_seasonal',\n",
       "       'chronic_med_condition', 'child_under_6_months', 'health_worker',\n",
       "       'health_insurance', 'opinion_h1n1_vacc_effective', 'opinion_h1n1_risk',\n",
       "       'opinion_h1n1_sick_from_vacc', 'opinion_seas_vacc_effective',\n",
       "       'opinion_seas_risk', 'opinion_seas_sick_from_vacc', 'age_group',\n",
       "       'education', 'race', 'sex', 'income_poverty', 'marital_status',\n",
       "       'rent_or_own', 'employment_status', 'hhs_geo_region', 'census_msa',\n",
       "       'household_adults', 'household_children', 'employment_industry',\n",
       "       'employment_occupation'],\n",
       "      dtype='object')"
      ]
     },
     "execution_count": 7,
     "metadata": {},
     "output_type": "execute_result"
    }
   ],
   "source": [
    "df_test_features.columns"
   ]
  },
  {
   "cell_type": "markdown",
   "metadata": {},
   "source": [
    "### Handling null data"
   ]
  },
  {
   "cell_type": "code",
   "execution_count": 8,
   "metadata": {},
   "outputs": [
    {
     "data": {
      "text/plain": [
       "respondent_id                      0\n",
       "h1n1_concern                      92\n",
       "h1n1_knowledge                   116\n",
       "behavioral_antiviral_meds         71\n",
       "behavioral_avoidance             208\n",
       "behavioral_face_mask              19\n",
       "behavioral_wash_hands             42\n",
       "behavioral_large_gatherings       87\n",
       "behavioral_outside_home           82\n",
       "behavioral_touch_face            128\n",
       "doctor_recc_h1n1                2160\n",
       "doctor_recc_seasonal            2160\n",
       "chronic_med_condition            971\n",
       "child_under_6_months             820\n",
       "health_worker                    804\n",
       "health_insurance               12274\n",
       "opinion_h1n1_vacc_effective      391\n",
       "opinion_h1n1_risk                388\n",
       "opinion_h1n1_sick_from_vacc      395\n",
       "opinion_seas_vacc_effective      462\n",
       "opinion_seas_risk                514\n",
       "opinion_seas_sick_from_vacc      537\n",
       "age_group                          0\n",
       "education                       1407\n",
       "race                               0\n",
       "sex                                0\n",
       "income_poverty                  4423\n",
       "marital_status                  1408\n",
       "rent_or_own                     2042\n",
       "employment_status               1463\n",
       "hhs_geo_region                     0\n",
       "census_msa                         0\n",
       "household_adults                 249\n",
       "household_children               249\n",
       "employment_industry            13330\n",
       "employment_occupation          13470\n",
       "dtype: int64"
      ]
     },
     "execution_count": 8,
     "metadata": {},
     "output_type": "execute_result"
    }
   ],
   "source": [
    "df_features.isna().sum()"
   ]
  },
  {
   "cell_type": "markdown",
   "metadata": {},
   "source": [
    "Features with null data: \n",
    "\n",
    "`h1n1_concern`                      92 - (0 = Not at all concerned; 1 = Not very concerned; 2 = Somewhat concerned; 3 = Very concerned.)\n",
    "\n",
    "`h1n1_knowledge`                   116 - (0 = No knowledge; 1 = A little knowledge; 2 = A lot of knowledge.)\n",
    "\n",
    "`behavioral_antiviral_meds`         71 - (binary)\n",
    "\n",
    "`behavioral_avoidance`             208 - (binary)\n",
    "\n",
    "`behavioral_face_mask`              19 - (binary)\n",
    "\n",
    "`behavioral_wash_hands`             42 - (binary)\n",
    "\n",
    "`behavioral_large_gatherings`       87 - (binary)\n",
    "\n",
    "`behavioral_outside_home`           82 - (binary)\n",
    "\n",
    "`behavioral_touch_face`            128 - (binary)\n",
    "\n",
    "`doctor_recc_h1n1`                2160 - (binary)\n",
    "\n",
    "`doctor_recc_seasonal`            2160 - (binary)\n",
    "\n",
    "`chronic_med_condition`            971 - (binary)\n",
    "\n",
    "`child_under_6_months`             820 - (binary)\n",
    "\n",
    "`health_worker`                    804 - (binary)\n",
    "\n",
    "`health_insurance`               12274 - (binary)\n",
    "\n",
    "`opinion_h1n1_vacc_effective`      391 - (1 = Not at all effective; 2 = Not very effective; 3 = Don't know; 4 = Somewhat effective; 5 = Very effective.)\n",
    "\n",
    "`opinion_h1n1_risk`                388 - (1 = Very Low; 2 = Somewhat low; 3 = Don't know; 4 = Somewhat high; 5 = Very high.)\n",
    "\n",
    "`opinion_h1n1_sick_from_vacc`      395 - (1 = Not at all worried; 2 = Not very worried; 3 = Don't know; 4 = Somewhat worried; 5 = Very worried.)\n",
    "\n",
    "`opinion_seas_vacc_effective`      462 - (1 = Not at all effective; 2 = Not very effective; 3 = Don't know; 4 = Somewhat effective; 5 = Very effective.)\n",
    "\n",
    "`opinion_seas_risk`                514 - (1 = Very Low; 2 = Somewhat low; 3 = Don't know; 4 = Somewhat high; 5 = Very high.)\n",
    "\n",
    "`opinion_seas_sick_from_vacc`      537 - (1 = Not at all worried; 2 = Not very worried; 3 = Don't know; 4 = Somewhat worried; 5 = Very worried.)\n",
    "\n",
    "`education`                       1407 - ('< 12 Years', '12 Years', 'College Graduate', 'Some College')\n",
    "\n",
    "`income_poverty`                  4423 - ('Below Poverty', '<= $75,000, Above Poverty', '> $75,000')\n",
    "\n",
    "`marital_status`                  1408 - ('Not Married', 'Married')\n",
    "\n",
    "`rent_or_own`                     2042 - ('own', 'rent')\n",
    "\n",
    "`employment_status`               1463 - ('Not in Labor Force', 'Employed', 'Unemployed')\n",
    "\n",
    "`household_adults`                 249 - (0, 1, 2, 3)\n",
    "\n",
    "`household_children`               249 - (0, 1, 2, 3)\n",
    "\n",
    "`employment_industry`            13330 - ('pxcmvdjn', 'rucpziij', 'wxleyezf', 'saaquncn', 'xicduogh','ldnlellj', 'wlfvacwt', 'nduyfdeo', 'fcxhlnwr', 'vjjrobsf','arjwrbjb', 'atmlpfrs', 'msuufmds', 'xqicxuve', 'phxvnwax','dotnnunm', 'mfikgejo', 'cfqqtusy', 'mcubkhph', 'haxffmxo', 'qnlwzans')\n",
    "\n",
    "`employment_occupation`          13470 - ('xgwztkwe', 'xtkaffoo', 'emcorrxb', 'vlluhbov', 'xqwwgdyp', 'ccgxvspp', 'qxajmpny', 'kldqjyjy', 'mxkfnird', 'hfxkjkmi', 'bxpfxfdn', 'ukymxvdu', 'cmhcxjea', 'haliazsg', 'dlvbwzss', 'xzmlyyjv', 'oijqvulv', 'rcertsgn', 'tfqavkke', 'hodpvpew', 'uqqtjvyb', 'pvmttkik', 'dcjcmpih')"
   ]
  },
  {
   "cell_type": "code",
   "execution_count": 8,
   "metadata": {},
   "outputs": [
    {
     "data": {
      "text/plain": [
       "respondent_id                      0\n",
       "h1n1_concern                      85\n",
       "h1n1_knowledge                   122\n",
       "behavioral_antiviral_meds         79\n",
       "behavioral_avoidance             213\n",
       "behavioral_face_mask              19\n",
       "behavioral_wash_hands             40\n",
       "behavioral_large_gatherings       72\n",
       "behavioral_outside_home           82\n",
       "behavioral_touch_face            128\n",
       "doctor_recc_h1n1                2160\n",
       "doctor_recc_seasonal            2160\n",
       "chronic_med_condition            932\n",
       "child_under_6_months             813\n",
       "health_worker                    789\n",
       "health_insurance               12228\n",
       "opinion_h1n1_vacc_effective      398\n",
       "opinion_h1n1_risk                380\n",
       "opinion_h1n1_sick_from_vacc      375\n",
       "opinion_seas_vacc_effective      452\n",
       "opinion_seas_risk                499\n",
       "opinion_seas_sick_from_vacc      521\n",
       "age_group                          0\n",
       "education                       1407\n",
       "race                               0\n",
       "sex                                0\n",
       "income_poverty                  4497\n",
       "marital_status                  1442\n",
       "rent_or_own                     2036\n",
       "employment_status               1471\n",
       "hhs_geo_region                     0\n",
       "census_msa                         0\n",
       "household_adults                 225\n",
       "household_children               225\n",
       "employment_industry            13275\n",
       "employment_occupation          13426\n",
       "dtype: int64"
      ]
     },
     "execution_count": 8,
     "metadata": {},
     "output_type": "execute_result"
    }
   ],
   "source": [
    "df_test_features.isna().sum()"
   ]
  },
  {
   "cell_type": "code",
   "execution_count": 9,
   "metadata": {},
   "outputs": [
    {
     "data": {
      "text/plain": [
       "respondent_id       0\n",
       "h1n1_vaccine        0\n",
       "seasonal_vaccine    0\n",
       "dtype: int64"
      ]
     },
     "execution_count": 9,
     "metadata": {},
     "output_type": "execute_result"
    }
   ],
   "source": [
    "df_labels.isna().sum()"
   ]
  },
  {
   "cell_type": "markdown",
   "metadata": {},
   "source": [
    "df_labels doesn't contain any null data, so null data cleaning will be done to df_features only"
   ]
  },
  {
   "cell_type": "code",
   "execution_count": 10,
   "metadata": {},
   "outputs": [
    {
     "data": {
      "text/plain": [
       "array([nan, 'xgwztkwe', 'xtkaffoo', 'emcorrxb', 'vlluhbov', 'xqwwgdyp',\n",
       "       'ccgxvspp', 'qxajmpny', 'kldqjyjy', 'mxkfnird', 'hfxkjkmi',\n",
       "       'bxpfxfdn', 'ukymxvdu', 'cmhcxjea', 'haliazsg', 'dlvbwzss',\n",
       "       'xzmlyyjv', 'oijqvulv', 'rcertsgn', 'tfqavkke', 'hodpvpew',\n",
       "       'uqqtjvyb', 'pvmttkik', 'dcjcmpih'], dtype=object)"
      ]
     },
     "execution_count": 10,
     "metadata": {},
     "output_type": "execute_result"
    }
   ],
   "source": [
    "df_features[\"employment_occupation\"].unique()"
   ]
  },
  {
   "cell_type": "code",
   "execution_count": 68,
   "metadata": {},
   "outputs": [],
   "source": [
    "df_features = pd.read_csv(\"data/training_set_features.csv\")\n",
    "df_test_features = pd.read_csv(\"data/test_set_features.csv\")"
   ]
  },
  {
   "cell_type": "markdown",
   "metadata": {},
   "source": [
    "#### Education columns"
   ]
  },
  {
   "cell_type": "markdown",
   "metadata": {},
   "source": [
    "With the assumption that education is affected by sex and age group, education will be filled using RF on sex and age group columns"
   ]
  },
  {
   "cell_type": "markdown",
   "metadata": {},
   "source": [
    "##### Train Data"
   ]
  },
  {
   "cell_type": "code",
   "execution_count": 69,
   "metadata": {},
   "outputs": [],
   "source": [
    "age_group = pd.get_dummies(df_features[\"age_group\"], prefix=\"age\")\n",
    "sex = pd.get_dummies(df_features[\"sex\"], prefix=\"sex\")\n",
    "\n",
    "education = pd.concat([age_group, sex, df_features[[\"education\"]]], axis=1)\n",
    "education_train = education.dropna()\n",
    "education_predict = education[education.isnull().any(axis=1)]\n",
    "\n",
    "education_train_X = education_train[[*age_group.columns, *sex.columns]]\n",
    "education_train_y = education_train[[\"education\"]]\n",
    "\n",
    "education_predict_X = education_predict[[*age_group.columns, *sex.columns]]\n",
    "\n",
    "random_forest_model = RandomForest(education_train_X, education_train_y, education_predict_X, depth=4)\n",
    "random_forest_model.fit()\n",
    "\n",
    "education_predict[\"education\"] = random_forest_model.predict()\n",
    "\n",
    "df_features = df_features.fillna(education_predict[[\"education\"]])"
   ]
  },
  {
   "cell_type": "markdown",
   "metadata": {},
   "source": [
    "##### Test Data"
   ]
  },
  {
   "cell_type": "code",
   "execution_count": 70,
   "metadata": {},
   "outputs": [],
   "source": [
    "age_group = pd.get_dummies(df_test_features[\"age_group\"], prefix=\"age\")\n",
    "sex = pd.get_dummies(df_test_features[\"sex\"], prefix=\"sex\")\n",
    "\n",
    "education = pd.concat([age_group, sex, df_test_features[[\"education\"]]], axis=1)\n",
    "education_train = education.dropna()\n",
    "education_predict = education[education.isnull().any(axis=1)]\n",
    "\n",
    "education_train_X = education_train[[*age_group.columns, *sex.columns]]\n",
    "education_train_y = education_train[[\"education\"]]\n",
    "\n",
    "education_predict_X = education_predict[[*age_group.columns, *sex.columns]]\n",
    "\n",
    "random_forest_model = RandomForest(education_train_X, education_train_y, education_predict_X, depth=4)\n",
    "random_forest_model.fit()\n",
    "\n",
    "education_predict[\"education\"] = random_forest_model.predict()\n",
    "\n",
    "df_test_features = df_test_features.fillna(education_predict[[\"education\"]])"
   ]
  },
  {
   "cell_type": "markdown",
   "metadata": {},
   "source": [
    "#### Employment Occupation and Industry Columns"
   ]
  },
  {
   "cell_type": "code",
   "execution_count": 71,
   "metadata": {},
   "outputs": [
    {
     "data": {
      "text/plain": [
       "employment_occupation        0\n",
       "employment_industry          0\n",
       "employment_status        11684\n",
       "dtype: int64"
      ]
     },
     "execution_count": 71,
     "metadata": {},
     "output_type": "execute_result"
    }
   ],
   "source": [
    "df_features[[\"employment_occupation\", \"employment_industry\", \"employment_status\"]].loc[(df_features[\"employment_status\"] == \"Unemployed\") | (df_features[\"employment_status\"] == \"Not in Labor Force\")].count()"
   ]
  },
  {
   "cell_type": "markdown",
   "metadata": {},
   "source": [
    "NaN happened because the respondent is \"Unemployed\" or \"Not in Labor\" because of that, we can fill the NaN value with some specific value, such as \"xxxxx\""
   ]
  },
  {
   "cell_type": "code",
   "execution_count": 72,
   "metadata": {},
   "outputs": [],
   "source": [
    "df_features[[\"employment_occupation\", \"employment_industry\"]] = df_features[[\"employment_occupation\", \"employment_industry\"]].fillna(\"xxxxx\")\n",
    "df_test_features[[\"employment_occupation\", \"employment_industry\"]] = df_test_features[[\"employment_occupation\", \"employment_industry\"]].fillna(\"xxxxx\")"
   ]
  },
  {
   "cell_type": "markdown",
   "metadata": {},
   "source": [
    "#### Employment Status Columns"
   ]
  },
  {
   "cell_type": "code",
   "execution_count": 73,
   "metadata": {},
   "outputs": [
    {
     "data": {
      "text/plain": [
       "employment_occupation    1463\n",
       "employment_industry      1463\n",
       "employment_status           0\n",
       "dtype: int64"
      ]
     },
     "execution_count": 73,
     "metadata": {},
     "output_type": "execute_result"
    }
   ],
   "source": [
    "df_features[[\"employment_occupation\", \"employment_industry\", \"employment_status\"]] .loc[(df_features[\"employment_status\"].isna()) & ((df_features[\"employment_industry\"]  != \"xxxxx\") | df_features[\"employment_occupation\"]  != \"xxxxx\")].count()"
   ]
  },
  {
   "cell_type": "markdown",
   "metadata": {},
   "source": [
    "Because of above details, employment_status with NaN data will be filled with \"Unemployed'"
   ]
  },
  {
   "cell_type": "code",
   "execution_count": 74,
   "metadata": {},
   "outputs": [],
   "source": [
    "df_features[[\"employment_status\"]] = df_features[[\"employment_status\"]].fillna(\"xxxxx\")\n",
    "df_test_features[[\"employment_status\"]] = df_features[[\"employment_status\"]].fillna(\"xxxxx\")"
   ]
  },
  {
   "cell_type": "markdown",
   "metadata": {},
   "source": [
    "## EDA"
   ]
  },
  {
   "cell_type": "markdown",
   "metadata": {},
   "source": [
    "## Modelling"
   ]
  },
  {
   "cell_type": "markdown",
   "metadata": {},
   "source": []
  }
 ],
 "metadata": {
  "kernelspec": {
   "display_name": "Python 3.9.0 64-bit",
   "language": "python",
   "name": "python3"
  },
  "language_info": {
   "codemirror_mode": {
    "name": "ipython",
    "version": 3
   },
   "file_extension": ".py",
   "mimetype": "text/x-python",
   "name": "python",
   "nbconvert_exporter": "python",
   "pygments_lexer": "ipython3",
   "version": "3.9.0"
  },
  "orig_nbformat": 4,
  "vscode": {
   "interpreter": {
    "hash": "8f5816e6188795d1cc8afa4306b69c5e3a103f064a75e820fe776234e4cf83e8"
   }
  }
 },
 "nbformat": 4,
 "nbformat_minor": 2
}
